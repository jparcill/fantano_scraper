{
 "cells": [
  {
   "cell_type": "code",
   "execution_count": 1,
   "metadata": {
    "collapsed": true
   },
   "outputs": [],
   "source": [
    "import pandas as pd"
   ]
  },
  {
   "cell_type": "code",
   "execution_count": 3,
   "metadata": {},
   "outputs": [],
   "source": [
    "reviews = pd.read_csv(\"./dataset/fantano_reviews.csv\", encoding='latin-1')"
   ]
  },
  {
   "cell_type": "code",
   "execution_count": 12,
   "metadata": {},
   "outputs": [
    {
     "data": {
      "text/plain": [
       "1253    Kanye West \n",
       "Name: artist, dtype: object"
      ]
     },
     "execution_count": 12,
     "metadata": {},
     "output_type": "execute_result"
    }
   ],
   "source": [
    "reviews[reviews['title'] == 'The Life of Pablo']['artist']"
   ]
  },
  {
   "cell_type": "code",
   "execution_count": 13,
   "metadata": {},
   "outputs": [
    {
     "data": {
      "text/html": [
       "<div>\n",
       "<style>\n",
       "    .dataframe thead tr:only-child th {\n",
       "        text-align: right;\n",
       "    }\n",
       "\n",
       "    .dataframe thead th {\n",
       "        text-align: left;\n",
       "    }\n",
       "\n",
       "    .dataframe tbody tr th {\n",
       "        vertical-align: top;\n",
       "    }\n",
       "</style>\n",
       "<table border=\"1\" class=\"dataframe\">\n",
       "  <thead>\n",
       "    <tr style=\"text-align: right;\">\n",
       "      <th></th>\n",
       "      <th>Unnamed: 0</th>\n",
       "      <th>title</th>\n",
       "      <th>artist</th>\n",
       "      <th>review_date</th>\n",
       "      <th>review_type</th>\n",
       "      <th>score</th>\n",
       "      <th>word_score</th>\n",
       "      <th>best_tracks</th>\n",
       "      <th>worst_track</th>\n",
       "      <th>link</th>\n",
       "    </tr>\n",
       "  </thead>\n",
       "  <tbody>\n",
       "    <tr>\n",
       "      <th>665</th>\n",
       "      <td>665</td>\n",
       "      <td>Yeezus</td>\n",
       "      <td>Kanye West</td>\n",
       "      <td>2013-06-18</td>\n",
       "      <td>Album</td>\n",
       "      <td>5.0</td>\n",
       "      <td>NaN</td>\n",
       "      <td>['BOUND 2 ', 'BLACK SKINHEAD ', 'NEW SLAVES']</td>\n",
       "      <td>GUILT TRIP</td>\n",
       "      <td>https://www.youtube.com/watch?v=Vns-81egipQ</td>\n",
       "    </tr>\n",
       "    <tr>\n",
       "      <th>1253</th>\n",
       "      <td>1253</td>\n",
       "      <td>The Life of Pablo</td>\n",
       "      <td>Kanye West</td>\n",
       "      <td>2016-02-15</td>\n",
       "      <td>Album</td>\n",
       "      <td>6.0</td>\n",
       "      <td>NaN</td>\n",
       "      <td>['REAL FRIENDS ', 'NO MORE PARTIES IN L . A . ...</td>\n",
       "      <td>FADE</td>\n",
       "      <td>https://www.youtube.com/watch?v=hm7jy9HNl3w</td>\n",
       "    </tr>\n",
       "  </tbody>\n",
       "</table>\n",
       "</div>"
      ],
      "text/plain": [
       "      Unnamed: 0              title       artist review_date review_type  \\\n",
       "665          665             Yeezus  Kanye West   2013-06-18       Album   \n",
       "1253        1253  The Life of Pablo  Kanye West   2016-02-15       Album   \n",
       "\n",
       "      score word_score                                        best_tracks  \\\n",
       "665     5.0        NaN      ['BOUND 2 ', 'BLACK SKINHEAD ', 'NEW SLAVES']   \n",
       "1253    6.0        NaN  ['REAL FRIENDS ', 'NO MORE PARTIES IN L . A . ...   \n",
       "\n",
       "     worst_track                                         link  \n",
       "665   GUILT TRIP  https://www.youtube.com/watch?v=Vns-81egipQ  \n",
       "1253        FADE  https://www.youtube.com/watch?v=hm7jy9HNl3w  "
      ]
     },
     "execution_count": 13,
     "metadata": {},
     "output_type": "execute_result"
    }
   ],
   "source": [
    "reviews[reviews['artist']=='Kanye West ']"
   ]
  },
  {
   "cell_type": "code",
   "execution_count": null,
   "metadata": {
    "collapsed": true
   },
   "outputs": [],
   "source": []
  }
 ],
 "metadata": {
  "kernelspec": {
   "display_name": "Python 3",
   "language": "python",
   "name": "python3"
  },
  "language_info": {
   "codemirror_mode": {
    "name": "ipython",
    "version": 3
   },
   "file_extension": ".py",
   "mimetype": "text/x-python",
   "name": "python",
   "nbconvert_exporter": "python",
   "pygments_lexer": "ipython3",
   "version": "3.6.3"
  }
 },
 "nbformat": 4,
 "nbformat_minor": 2
}
